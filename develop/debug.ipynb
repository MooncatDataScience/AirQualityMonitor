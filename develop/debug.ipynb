{
 "cells": [
  {
   "cell_type": "code",
   "execution_count": null,
   "metadata": {},
   "outputs": [],
   "source": [
    "dt = pd.DataFrame()\n",
    "dt['date'] = pd.to_datetime(df[1])\n",
    "dt['year'] = pd.to_datetime(df[1]).dt.year\n",
    "dt['month'] = pd.to_datetime(df[1]).dt.month\n",
    "dt['day'] = pd.to_datetime(df[1]).dt.day\n",
    "dt['substance'] = df[2]\n",
    "dt['0hour'] = df[3]\n",
    "dt['1hour'] = df[4]\n",
    "dt['2hour'] = df[5]\n",
    "dt['3hour'] = df[6]\n",
    "dt['4hour'] = df[7]\n",
    "dt['5hour'] = df[8]\n",
    "dt['6hour'] = df[9]\n",
    "dt['7hour'] = df[10]\n",
    "dt['8hour'] = df[11]\n",
    "dt['9hour'] = df[12]\n",
    "dt['10hour'] = df[13]\n",
    "dt['11hour'] = df[14]\n",
    "dt['12hour'] = df[15]\n",
    "dt['13hour'] = df[16]\n",
    "dt['14hour'] = df[17]\n",
    "dt['15hour'] = df[18]\n",
    "dt['16hour'] = df[19]\n",
    "dt['17hour'] = df[20]\n",
    "dt['18hour'] = df[21]\n",
    "dt['19hour'] = df[22]\n",
    "dt['20hour'] = df[23]\n",
    "dt['21hour'] = df[24]\n",
    "dt['22hour'] = df[25]\n",
    "dt['23hour'] = df[26]\n",
    "\n"
   ]
  },
  {
   "cell_type": "code",
   "execution_count": null,
   "metadata": {},
   "outputs": [],
   "source": [
    "hour_columns = [str(i) + 'hour' for i in range(24)]\n",
    "data[hour_columns] = data[hour_columns].apply(lambda x: x.str.strip())\n",
    "for column in hour_columns:\n",
    "    data[column] = pd.to_numeric(data[column], errors='coerce')\n",
    "data['daily_average'] = data[hour_columns].mean(axis=1)\n",
    "print(data['daily_average'])"
   ]
  }
 ],
 "metadata": {
  "language_info": {
   "name": "python"
  },
  "orig_nbformat": 4
 },
 "nbformat": 4,
 "nbformat_minor": 2
}
